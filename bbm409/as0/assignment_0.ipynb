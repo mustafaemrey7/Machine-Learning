{
  "cells": [
    {
      "cell_type": "markdown",
      "metadata": {
        "id": "r3dwj0ZmIi5G"
      },
      "source": [
        "# BBM409 Assignment_0\n",
        "\n",
        "Group Member: Hanifi Aslankarayiğit\n",
        "\n",
        "Group Member: Mustafa Emre Yıldırım"
      ]
    },
    {
      "cell_type": "code",
      "execution_count": 41,
      "metadata": {
        "id": "Fc8r6-NtIHjT"
      },
      "outputs": [],
      "source": [
        "\"\"\" import necessary libraries\"\"\"\n",
        "import numpy as np\n",
        "import matplotlib.pyplot as plt\n",
        "import pandas as pd\n",
        "from sklearn.metrics import confusion_matrix\n",
        "from sklearn.metrics import classification_report"
      ]
    },
    {
      "cell_type": "code",
      "source": [],
      "metadata": {
        "id": "VNqK7OYTPM8S"
      },
      "execution_count": null,
      "outputs": []
    },
    {
      "cell_type": "code",
      "source": [],
      "metadata": {
        "colab": {
          "base_uri": "https://localhost:8080/"
        },
        "id": "8BIrVOdACBjQ",
        "outputId": "02458fed-9037-4e6f-b339-8ec1775db338"
      },
      "execution_count": null,
      "outputs": [
        {
          "output_type": "stream",
          "name": "stdout",
          "text": [
            "Mounted at /content/drive\n"
          ]
        }
      ]
    },
    {
      "cell_type": "code",
      "execution_count": 4,
      "metadata": {
        "id": "Of6ySTAMIeB-",
        "colab": {
          "base_uri": "https://localhost:8080/",
          "height": 677
        },
        "outputId": "ba771303-8c5d-4c29-8ea5-d680581b2796"
      },
      "outputs": [
        {
          "output_type": "execute_result",
          "data": {
            "text/plain": [
              "          obj_ID       alpha      delta         u         g         r  \\\n",
              "0   1.237661e+18  135.689107  32.494632  23.87882  22.27530  20.39501   \n",
              "1   1.237665e+18  144.826101  31.274185  24.77759  22.83188  22.58444   \n",
              "2   1.237661e+18  142.188790  35.582444  25.26307  22.66389  20.60976   \n",
              "3   1.237663e+18  338.741038  -0.402828  22.13682  23.77656  21.61162   \n",
              "4   1.237680e+18  345.282593  21.183866  19.43718  17.58028  16.49747   \n",
              "5   1.237680e+18  340.995121  20.589476  23.48827  23.33776  21.32195   \n",
              "6   1.237679e+18   23.234926  11.418188  21.46973  21.17624  20.92829   \n",
              "7   1.237679e+18    5.433176  12.065186  22.24979  22.02172  20.34126   \n",
              "8   1.237661e+18  200.290475  47.199402  24.40286  22.35669  20.61032   \n",
              "9   1.237671e+18   39.149691  28.102842  21.74669  20.03493  19.17553   \n",
              "10  1.237680e+18  328.092076  18.220310  25.77163  22.52042  20.63884   \n",
              "11  1.237662e+18  243.986637  25.738280  23.76761  23.79969  20.98318   \n",
              "12  1.237681e+18  345.801874  32.672868  23.17274  20.14496  19.41948   \n",
              "13  1.237679e+18  331.502030  10.035802  20.82940  18.75091  17.51118   \n",
              "14  1.237663e+18  344.984770  -0.352616  23.20911  22.79291  22.08589   \n",
              "15  1.237662e+18  244.824523  25.154564  24.88680  22.13311  20.44728   \n",
              "16  1.237679e+18  353.201522   3.080796  24.54890  21.44267  20.95315   \n",
              "17  1.237679e+18    1.494389   3.291746  20.38562  20.40514  20.29996   \n",
              "18  1.237679e+18   14.383135   3.214326  21.82154  20.55730  19.94918   \n",
              "19  1.237652e+18  167.131669  67.339936  20.48292  18.67807  17.61680   \n",
              "\n",
              "           i         z  run_ID  rerun_ID  cam_col  field_ID   spec_obj_ID  \\\n",
              "0   19.16573  18.79371    3606       301        2        79  6.543777e+18   \n",
              "1   21.16812  21.61427    4518       301        5       119  1.176014e+19   \n",
              "2   19.34857  18.94827    3606       301        2       120  5.152200e+18   \n",
              "3   20.50454  19.25010    4192       301        3       214  1.030107e+19   \n",
              "4   15.97711  15.54461    8102       301        3       137  6.891865e+18   \n",
              "5   20.25615  19.54544    8102       301        3       110  5.658977e+18   \n",
              "6   20.60826  20.42573    7773       301        2       462  1.246262e+19   \n",
              "7   19.48794  18.84999    7773       301        2       346  6.961443e+18   \n",
              "8   19.46490  18.95852    3716       301        5       108  7.459285e+18   \n",
              "9   18.81823  18.65422    5934       301        4       122  2.751763e+18   \n",
              "10  19.78071  19.05765    8102       301        3        27  5.652162e+18   \n",
              "11  19.80745  19.45579    3927       301        4       112  5.322364e+18   \n",
              "12  19.22034  18.89359    8157       301        2        38  7.323011e+18   \n",
              "13  17.01631  16.62772    7773       301        2       123  5.702738e+18   \n",
              "14  21.86282  21.85120    4192       301        3       255  1.037539e+19   \n",
              "15  19.49171  18.97470    3927       301        4       118  5.322135e+18   \n",
              "16  20.79360  20.48442    7712       301        5       284  4.822278e+18   \n",
              "17  20.05918  19.89044    7712       301        5       339  9.843824e+18   \n",
              "18  19.76057  19.55514    7712       301        5       425  9.855073e+18   \n",
              "19  17.11936  16.73351    1412       301        5       124  5.518595e+17   \n",
              "\n",
              "     class  redshift  plate    MJD  fiber_ID  \n",
              "0   GALAXY  0.634794   5812  56354       171  \n",
              "1   GALAXY  0.779136  10445  58158       427  \n",
              "2   GALAXY  0.644195   4576  55592       299  \n",
              "3   GALAXY  0.932346   9149  58039       775  \n",
              "4   GALAXY  0.116123   6121  56187       842  \n",
              "5      QSO  1.424659   5026  55855       741  \n",
              "6      QSO  0.586455  11069  58456       113  \n",
              "7   GALAXY  0.477009   6183  56210        15  \n",
              "8   GALAXY  0.660012   6625  56386       719  \n",
              "9     STAR -0.000008   2444  54082       232  \n",
              "10  GALAXY  0.459596   5020  55852       525  \n",
              "11  GALAXY  0.591409   4727  55693       855  \n",
              "12    STAR  0.000072   6504  56540       574  \n",
              "13  GALAXY  0.152194   5065  55739       200  \n",
              "14  GALAXY  0.818160   9215  57682       796  \n",
              "15  GALAXY  0.484929   4727  55693        23  \n",
              "16    STAR -0.000429   4283  55864       178  \n",
              "17     QSO  2.031528   8743  57663       295  \n",
              "18    STAR -0.000440   8753  57373       258  \n",
              "19  GALAXY  0.111588    490  51929       613  "
            ],
            "text/html": [
              "\n",
              "  <div id=\"df-eac15c07-1aec-48bb-8bfc-85c0cda95e19\" class=\"colab-df-container\">\n",
              "    <div>\n",
              "<style scoped>\n",
              "    .dataframe tbody tr th:only-of-type {\n",
              "        vertical-align: middle;\n",
              "    }\n",
              "\n",
              "    .dataframe tbody tr th {\n",
              "        vertical-align: top;\n",
              "    }\n",
              "\n",
              "    .dataframe thead th {\n",
              "        text-align: right;\n",
              "    }\n",
              "</style>\n",
              "<table border=\"1\" class=\"dataframe\">\n",
              "  <thead>\n",
              "    <tr style=\"text-align: right;\">\n",
              "      <th></th>\n",
              "      <th>obj_ID</th>\n",
              "      <th>alpha</th>\n",
              "      <th>delta</th>\n",
              "      <th>u</th>\n",
              "      <th>g</th>\n",
              "      <th>r</th>\n",
              "      <th>i</th>\n",
              "      <th>z</th>\n",
              "      <th>run_ID</th>\n",
              "      <th>rerun_ID</th>\n",
              "      <th>cam_col</th>\n",
              "      <th>field_ID</th>\n",
              "      <th>spec_obj_ID</th>\n",
              "      <th>class</th>\n",
              "      <th>redshift</th>\n",
              "      <th>plate</th>\n",
              "      <th>MJD</th>\n",
              "      <th>fiber_ID</th>\n",
              "    </tr>\n",
              "  </thead>\n",
              "  <tbody>\n",
              "    <tr>\n",
              "      <th>0</th>\n",
              "      <td>1.237661e+18</td>\n",
              "      <td>135.689107</td>\n",
              "      <td>32.494632</td>\n",
              "      <td>23.87882</td>\n",
              "      <td>22.27530</td>\n",
              "      <td>20.39501</td>\n",
              "      <td>19.16573</td>\n",
              "      <td>18.79371</td>\n",
              "      <td>3606</td>\n",
              "      <td>301</td>\n",
              "      <td>2</td>\n",
              "      <td>79</td>\n",
              "      <td>6.543777e+18</td>\n",
              "      <td>GALAXY</td>\n",
              "      <td>0.634794</td>\n",
              "      <td>5812</td>\n",
              "      <td>56354</td>\n",
              "      <td>171</td>\n",
              "    </tr>\n",
              "    <tr>\n",
              "      <th>1</th>\n",
              "      <td>1.237665e+18</td>\n",
              "      <td>144.826101</td>\n",
              "      <td>31.274185</td>\n",
              "      <td>24.77759</td>\n",
              "      <td>22.83188</td>\n",
              "      <td>22.58444</td>\n",
              "      <td>21.16812</td>\n",
              "      <td>21.61427</td>\n",
              "      <td>4518</td>\n",
              "      <td>301</td>\n",
              "      <td>5</td>\n",
              "      <td>119</td>\n",
              "      <td>1.176014e+19</td>\n",
              "      <td>GALAXY</td>\n",
              "      <td>0.779136</td>\n",
              "      <td>10445</td>\n",
              "      <td>58158</td>\n",
              "      <td>427</td>\n",
              "    </tr>\n",
              "    <tr>\n",
              "      <th>2</th>\n",
              "      <td>1.237661e+18</td>\n",
              "      <td>142.188790</td>\n",
              "      <td>35.582444</td>\n",
              "      <td>25.26307</td>\n",
              "      <td>22.66389</td>\n",
              "      <td>20.60976</td>\n",
              "      <td>19.34857</td>\n",
              "      <td>18.94827</td>\n",
              "      <td>3606</td>\n",
              "      <td>301</td>\n",
              "      <td>2</td>\n",
              "      <td>120</td>\n",
              "      <td>5.152200e+18</td>\n",
              "      <td>GALAXY</td>\n",
              "      <td>0.644195</td>\n",
              "      <td>4576</td>\n",
              "      <td>55592</td>\n",
              "      <td>299</td>\n",
              "    </tr>\n",
              "    <tr>\n",
              "      <th>3</th>\n",
              "      <td>1.237663e+18</td>\n",
              "      <td>338.741038</td>\n",
              "      <td>-0.402828</td>\n",
              "      <td>22.13682</td>\n",
              "      <td>23.77656</td>\n",
              "      <td>21.61162</td>\n",
              "      <td>20.50454</td>\n",
              "      <td>19.25010</td>\n",
              "      <td>4192</td>\n",
              "      <td>301</td>\n",
              "      <td>3</td>\n",
              "      <td>214</td>\n",
              "      <td>1.030107e+19</td>\n",
              "      <td>GALAXY</td>\n",
              "      <td>0.932346</td>\n",
              "      <td>9149</td>\n",
              "      <td>58039</td>\n",
              "      <td>775</td>\n",
              "    </tr>\n",
              "    <tr>\n",
              "      <th>4</th>\n",
              "      <td>1.237680e+18</td>\n",
              "      <td>345.282593</td>\n",
              "      <td>21.183866</td>\n",
              "      <td>19.43718</td>\n",
              "      <td>17.58028</td>\n",
              "      <td>16.49747</td>\n",
              "      <td>15.97711</td>\n",
              "      <td>15.54461</td>\n",
              "      <td>8102</td>\n",
              "      <td>301</td>\n",
              "      <td>3</td>\n",
              "      <td>137</td>\n",
              "      <td>6.891865e+18</td>\n",
              "      <td>GALAXY</td>\n",
              "      <td>0.116123</td>\n",
              "      <td>6121</td>\n",
              "      <td>56187</td>\n",
              "      <td>842</td>\n",
              "    </tr>\n",
              "    <tr>\n",
              "      <th>5</th>\n",
              "      <td>1.237680e+18</td>\n",
              "      <td>340.995121</td>\n",
              "      <td>20.589476</td>\n",
              "      <td>23.48827</td>\n",
              "      <td>23.33776</td>\n",
              "      <td>21.32195</td>\n",
              "      <td>20.25615</td>\n",
              "      <td>19.54544</td>\n",
              "      <td>8102</td>\n",
              "      <td>301</td>\n",
              "      <td>3</td>\n",
              "      <td>110</td>\n",
              "      <td>5.658977e+18</td>\n",
              "      <td>QSO</td>\n",
              "      <td>1.424659</td>\n",
              "      <td>5026</td>\n",
              "      <td>55855</td>\n",
              "      <td>741</td>\n",
              "    </tr>\n",
              "    <tr>\n",
              "      <th>6</th>\n",
              "      <td>1.237679e+18</td>\n",
              "      <td>23.234926</td>\n",
              "      <td>11.418188</td>\n",
              "      <td>21.46973</td>\n",
              "      <td>21.17624</td>\n",
              "      <td>20.92829</td>\n",
              "      <td>20.60826</td>\n",
              "      <td>20.42573</td>\n",
              "      <td>7773</td>\n",
              "      <td>301</td>\n",
              "      <td>2</td>\n",
              "      <td>462</td>\n",
              "      <td>1.246262e+19</td>\n",
              "      <td>QSO</td>\n",
              "      <td>0.586455</td>\n",
              "      <td>11069</td>\n",
              "      <td>58456</td>\n",
              "      <td>113</td>\n",
              "    </tr>\n",
              "    <tr>\n",
              "      <th>7</th>\n",
              "      <td>1.237679e+18</td>\n",
              "      <td>5.433176</td>\n",
              "      <td>12.065186</td>\n",
              "      <td>22.24979</td>\n",
              "      <td>22.02172</td>\n",
              "      <td>20.34126</td>\n",
              "      <td>19.48794</td>\n",
              "      <td>18.84999</td>\n",
              "      <td>7773</td>\n",
              "      <td>301</td>\n",
              "      <td>2</td>\n",
              "      <td>346</td>\n",
              "      <td>6.961443e+18</td>\n",
              "      <td>GALAXY</td>\n",
              "      <td>0.477009</td>\n",
              "      <td>6183</td>\n",
              "      <td>56210</td>\n",
              "      <td>15</td>\n",
              "    </tr>\n",
              "    <tr>\n",
              "      <th>8</th>\n",
              "      <td>1.237661e+18</td>\n",
              "      <td>200.290475</td>\n",
              "      <td>47.199402</td>\n",
              "      <td>24.40286</td>\n",
              "      <td>22.35669</td>\n",
              "      <td>20.61032</td>\n",
              "      <td>19.46490</td>\n",
              "      <td>18.95852</td>\n",
              "      <td>3716</td>\n",
              "      <td>301</td>\n",
              "      <td>5</td>\n",
              "      <td>108</td>\n",
              "      <td>7.459285e+18</td>\n",
              "      <td>GALAXY</td>\n",
              "      <td>0.660012</td>\n",
              "      <td>6625</td>\n",
              "      <td>56386</td>\n",
              "      <td>719</td>\n",
              "    </tr>\n",
              "    <tr>\n",
              "      <th>9</th>\n",
              "      <td>1.237671e+18</td>\n",
              "      <td>39.149691</td>\n",
              "      <td>28.102842</td>\n",
              "      <td>21.74669</td>\n",
              "      <td>20.03493</td>\n",
              "      <td>19.17553</td>\n",
              "      <td>18.81823</td>\n",
              "      <td>18.65422</td>\n",
              "      <td>5934</td>\n",
              "      <td>301</td>\n",
              "      <td>4</td>\n",
              "      <td>122</td>\n",
              "      <td>2.751763e+18</td>\n",
              "      <td>STAR</td>\n",
              "      <td>-0.000008</td>\n",
              "      <td>2444</td>\n",
              "      <td>54082</td>\n",
              "      <td>232</td>\n",
              "    </tr>\n",
              "    <tr>\n",
              "      <th>10</th>\n",
              "      <td>1.237680e+18</td>\n",
              "      <td>328.092076</td>\n",
              "      <td>18.220310</td>\n",
              "      <td>25.77163</td>\n",
              "      <td>22.52042</td>\n",
              "      <td>20.63884</td>\n",
              "      <td>19.78071</td>\n",
              "      <td>19.05765</td>\n",
              "      <td>8102</td>\n",
              "      <td>301</td>\n",
              "      <td>3</td>\n",
              "      <td>27</td>\n",
              "      <td>5.652162e+18</td>\n",
              "      <td>GALAXY</td>\n",
              "      <td>0.459596</td>\n",
              "      <td>5020</td>\n",
              "      <td>55852</td>\n",
              "      <td>525</td>\n",
              "    </tr>\n",
              "    <tr>\n",
              "      <th>11</th>\n",
              "      <td>1.237662e+18</td>\n",
              "      <td>243.986637</td>\n",
              "      <td>25.738280</td>\n",
              "      <td>23.76761</td>\n",
              "      <td>23.79969</td>\n",
              "      <td>20.98318</td>\n",
              "      <td>19.80745</td>\n",
              "      <td>19.45579</td>\n",
              "      <td>3927</td>\n",
              "      <td>301</td>\n",
              "      <td>4</td>\n",
              "      <td>112</td>\n",
              "      <td>5.322364e+18</td>\n",
              "      <td>GALAXY</td>\n",
              "      <td>0.591409</td>\n",
              "      <td>4727</td>\n",
              "      <td>55693</td>\n",
              "      <td>855</td>\n",
              "    </tr>\n",
              "    <tr>\n",
              "      <th>12</th>\n",
              "      <td>1.237681e+18</td>\n",
              "      <td>345.801874</td>\n",
              "      <td>32.672868</td>\n",
              "      <td>23.17274</td>\n",
              "      <td>20.14496</td>\n",
              "      <td>19.41948</td>\n",
              "      <td>19.22034</td>\n",
              "      <td>18.89359</td>\n",
              "      <td>8157</td>\n",
              "      <td>301</td>\n",
              "      <td>2</td>\n",
              "      <td>38</td>\n",
              "      <td>7.323011e+18</td>\n",
              "      <td>STAR</td>\n",
              "      <td>0.000072</td>\n",
              "      <td>6504</td>\n",
              "      <td>56540</td>\n",
              "      <td>574</td>\n",
              "    </tr>\n",
              "    <tr>\n",
              "      <th>13</th>\n",
              "      <td>1.237679e+18</td>\n",
              "      <td>331.502030</td>\n",
              "      <td>10.035802</td>\n",
              "      <td>20.82940</td>\n",
              "      <td>18.75091</td>\n",
              "      <td>17.51118</td>\n",
              "      <td>17.01631</td>\n",
              "      <td>16.62772</td>\n",
              "      <td>7773</td>\n",
              "      <td>301</td>\n",
              "      <td>2</td>\n",
              "      <td>123</td>\n",
              "      <td>5.702738e+18</td>\n",
              "      <td>GALAXY</td>\n",
              "      <td>0.152194</td>\n",
              "      <td>5065</td>\n",
              "      <td>55739</td>\n",
              "      <td>200</td>\n",
              "    </tr>\n",
              "    <tr>\n",
              "      <th>14</th>\n",
              "      <td>1.237663e+18</td>\n",
              "      <td>344.984770</td>\n",
              "      <td>-0.352616</td>\n",
              "      <td>23.20911</td>\n",
              "      <td>22.79291</td>\n",
              "      <td>22.08589</td>\n",
              "      <td>21.86282</td>\n",
              "      <td>21.85120</td>\n",
              "      <td>4192</td>\n",
              "      <td>301</td>\n",
              "      <td>3</td>\n",
              "      <td>255</td>\n",
              "      <td>1.037539e+19</td>\n",
              "      <td>GALAXY</td>\n",
              "      <td>0.818160</td>\n",
              "      <td>9215</td>\n",
              "      <td>57682</td>\n",
              "      <td>796</td>\n",
              "    </tr>\n",
              "    <tr>\n",
              "      <th>15</th>\n",
              "      <td>1.237662e+18</td>\n",
              "      <td>244.824523</td>\n",
              "      <td>25.154564</td>\n",
              "      <td>24.88680</td>\n",
              "      <td>22.13311</td>\n",
              "      <td>20.44728</td>\n",
              "      <td>19.49171</td>\n",
              "      <td>18.97470</td>\n",
              "      <td>3927</td>\n",
              "      <td>301</td>\n",
              "      <td>4</td>\n",
              "      <td>118</td>\n",
              "      <td>5.322135e+18</td>\n",
              "      <td>GALAXY</td>\n",
              "      <td>0.484929</td>\n",
              "      <td>4727</td>\n",
              "      <td>55693</td>\n",
              "      <td>23</td>\n",
              "    </tr>\n",
              "    <tr>\n",
              "      <th>16</th>\n",
              "      <td>1.237679e+18</td>\n",
              "      <td>353.201522</td>\n",
              "      <td>3.080796</td>\n",
              "      <td>24.54890</td>\n",
              "      <td>21.44267</td>\n",
              "      <td>20.95315</td>\n",
              "      <td>20.79360</td>\n",
              "      <td>20.48442</td>\n",
              "      <td>7712</td>\n",
              "      <td>301</td>\n",
              "      <td>5</td>\n",
              "      <td>284</td>\n",
              "      <td>4.822278e+18</td>\n",
              "      <td>STAR</td>\n",
              "      <td>-0.000429</td>\n",
              "      <td>4283</td>\n",
              "      <td>55864</td>\n",
              "      <td>178</td>\n",
              "    </tr>\n",
              "    <tr>\n",
              "      <th>17</th>\n",
              "      <td>1.237679e+18</td>\n",
              "      <td>1.494389</td>\n",
              "      <td>3.291746</td>\n",
              "      <td>20.38562</td>\n",
              "      <td>20.40514</td>\n",
              "      <td>20.29996</td>\n",
              "      <td>20.05918</td>\n",
              "      <td>19.89044</td>\n",
              "      <td>7712</td>\n",
              "      <td>301</td>\n",
              "      <td>5</td>\n",
              "      <td>339</td>\n",
              "      <td>9.843824e+18</td>\n",
              "      <td>QSO</td>\n",
              "      <td>2.031528</td>\n",
              "      <td>8743</td>\n",
              "      <td>57663</td>\n",
              "      <td>295</td>\n",
              "    </tr>\n",
              "    <tr>\n",
              "      <th>18</th>\n",
              "      <td>1.237679e+18</td>\n",
              "      <td>14.383135</td>\n",
              "      <td>3.214326</td>\n",
              "      <td>21.82154</td>\n",
              "      <td>20.55730</td>\n",
              "      <td>19.94918</td>\n",
              "      <td>19.76057</td>\n",
              "      <td>19.55514</td>\n",
              "      <td>7712</td>\n",
              "      <td>301</td>\n",
              "      <td>5</td>\n",
              "      <td>425</td>\n",
              "      <td>9.855073e+18</td>\n",
              "      <td>STAR</td>\n",
              "      <td>-0.000440</td>\n",
              "      <td>8753</td>\n",
              "      <td>57373</td>\n",
              "      <td>258</td>\n",
              "    </tr>\n",
              "    <tr>\n",
              "      <th>19</th>\n",
              "      <td>1.237652e+18</td>\n",
              "      <td>167.131669</td>\n",
              "      <td>67.339936</td>\n",
              "      <td>20.48292</td>\n",
              "      <td>18.67807</td>\n",
              "      <td>17.61680</td>\n",
              "      <td>17.11936</td>\n",
              "      <td>16.73351</td>\n",
              "      <td>1412</td>\n",
              "      <td>301</td>\n",
              "      <td>5</td>\n",
              "      <td>124</td>\n",
              "      <td>5.518595e+17</td>\n",
              "      <td>GALAXY</td>\n",
              "      <td>0.111588</td>\n",
              "      <td>490</td>\n",
              "      <td>51929</td>\n",
              "      <td>613</td>\n",
              "    </tr>\n",
              "  </tbody>\n",
              "</table>\n",
              "</div>\n",
              "    <div class=\"colab-df-buttons\">\n",
              "\n",
              "  <div class=\"colab-df-container\">\n",
              "    <button class=\"colab-df-convert\" onclick=\"convertToInteractive('df-eac15c07-1aec-48bb-8bfc-85c0cda95e19')\"\n",
              "            title=\"Convert this dataframe to an interactive table.\"\n",
              "            style=\"display:none;\">\n",
              "\n",
              "  <svg xmlns=\"http://www.w3.org/2000/svg\" height=\"24px\" viewBox=\"0 -960 960 960\">\n",
              "    <path d=\"M120-120v-720h720v720H120Zm60-500h600v-160H180v160Zm220 220h160v-160H400v160Zm0 220h160v-160H400v160ZM180-400h160v-160H180v160Zm440 0h160v-160H620v160ZM180-180h160v-160H180v160Zm440 0h160v-160H620v160Z\"/>\n",
              "  </svg>\n",
              "    </button>\n",
              "\n",
              "  <style>\n",
              "    .colab-df-container {\n",
              "      display:flex;\n",
              "      gap: 12px;\n",
              "    }\n",
              "\n",
              "    .colab-df-convert {\n",
              "      background-color: #E8F0FE;\n",
              "      border: none;\n",
              "      border-radius: 50%;\n",
              "      cursor: pointer;\n",
              "      display: none;\n",
              "      fill: #1967D2;\n",
              "      height: 32px;\n",
              "      padding: 0 0 0 0;\n",
              "      width: 32px;\n",
              "    }\n",
              "\n",
              "    .colab-df-convert:hover {\n",
              "      background-color: #E2EBFA;\n",
              "      box-shadow: 0px 1px 2px rgba(60, 64, 67, 0.3), 0px 1px 3px 1px rgba(60, 64, 67, 0.15);\n",
              "      fill: #174EA6;\n",
              "    }\n",
              "\n",
              "    .colab-df-buttons div {\n",
              "      margin-bottom: 4px;\n",
              "    }\n",
              "\n",
              "    [theme=dark] .colab-df-convert {\n",
              "      background-color: #3B4455;\n",
              "      fill: #D2E3FC;\n",
              "    }\n",
              "\n",
              "    [theme=dark] .colab-df-convert:hover {\n",
              "      background-color: #434B5C;\n",
              "      box-shadow: 0px 1px 3px 1px rgba(0, 0, 0, 0.15);\n",
              "      filter: drop-shadow(0px 1px 2px rgba(0, 0, 0, 0.3));\n",
              "      fill: #FFFFFF;\n",
              "    }\n",
              "  </style>\n",
              "\n",
              "    <script>\n",
              "      const buttonEl =\n",
              "        document.querySelector('#df-eac15c07-1aec-48bb-8bfc-85c0cda95e19 button.colab-df-convert');\n",
              "      buttonEl.style.display =\n",
              "        google.colab.kernel.accessAllowed ? 'block' : 'none';\n",
              "\n",
              "      async function convertToInteractive(key) {\n",
              "        const element = document.querySelector('#df-eac15c07-1aec-48bb-8bfc-85c0cda95e19');\n",
              "        const dataTable =\n",
              "          await google.colab.kernel.invokeFunction('convertToInteractive',\n",
              "                                                    [key], {});\n",
              "        if (!dataTable) return;\n",
              "\n",
              "        const docLinkHtml = 'Like what you see? Visit the ' +\n",
              "          '<a target=\"_blank\" href=https://colab.research.google.com/notebooks/data_table.ipynb>data table notebook</a>'\n",
              "          + ' to learn more about interactive tables.';\n",
              "        element.innerHTML = '';\n",
              "        dataTable['output_type'] = 'display_data';\n",
              "        await google.colab.output.renderOutput(dataTable, element);\n",
              "        const docLink = document.createElement('div');\n",
              "        docLink.innerHTML = docLinkHtml;\n",
              "        element.appendChild(docLink);\n",
              "      }\n",
              "    </script>\n",
              "  </div>\n",
              "\n",
              "\n",
              "<div id=\"df-66db0eba-d061-4853-a763-c91c90200946\">\n",
              "  <button class=\"colab-df-quickchart\" onclick=\"quickchart('df-66db0eba-d061-4853-a763-c91c90200946')\"\n",
              "            title=\"Suggest charts.\"\n",
              "            style=\"display:none;\">\n",
              "\n",
              "<svg xmlns=\"http://www.w3.org/2000/svg\" height=\"24px\"viewBox=\"0 0 24 24\"\n",
              "     width=\"24px\">\n",
              "    <g>\n",
              "        <path d=\"M19 3H5c-1.1 0-2 .9-2 2v14c0 1.1.9 2 2 2h14c1.1 0 2-.9 2-2V5c0-1.1-.9-2-2-2zM9 17H7v-7h2v7zm4 0h-2V7h2v10zm4 0h-2v-4h2v4z\"/>\n",
              "    </g>\n",
              "</svg>\n",
              "  </button>\n",
              "\n",
              "<style>\n",
              "  .colab-df-quickchart {\n",
              "      --bg-color: #E8F0FE;\n",
              "      --fill-color: #1967D2;\n",
              "      --hover-bg-color: #E2EBFA;\n",
              "      --hover-fill-color: #174EA6;\n",
              "      --disabled-fill-color: #AAA;\n",
              "      --disabled-bg-color: #DDD;\n",
              "  }\n",
              "\n",
              "  [theme=dark] .colab-df-quickchart {\n",
              "      --bg-color: #3B4455;\n",
              "      --fill-color: #D2E3FC;\n",
              "      --hover-bg-color: #434B5C;\n",
              "      --hover-fill-color: #FFFFFF;\n",
              "      --disabled-bg-color: #3B4455;\n",
              "      --disabled-fill-color: #666;\n",
              "  }\n",
              "\n",
              "  .colab-df-quickchart {\n",
              "    background-color: var(--bg-color);\n",
              "    border: none;\n",
              "    border-radius: 50%;\n",
              "    cursor: pointer;\n",
              "    display: none;\n",
              "    fill: var(--fill-color);\n",
              "    height: 32px;\n",
              "    padding: 0;\n",
              "    width: 32px;\n",
              "  }\n",
              "\n",
              "  .colab-df-quickchart:hover {\n",
              "    background-color: var(--hover-bg-color);\n",
              "    box-shadow: 0 1px 2px rgba(60, 64, 67, 0.3), 0 1px 3px 1px rgba(60, 64, 67, 0.15);\n",
              "    fill: var(--button-hover-fill-color);\n",
              "  }\n",
              "\n",
              "  .colab-df-quickchart-complete:disabled,\n",
              "  .colab-df-quickchart-complete:disabled:hover {\n",
              "    background-color: var(--disabled-bg-color);\n",
              "    fill: var(--disabled-fill-color);\n",
              "    box-shadow: none;\n",
              "  }\n",
              "\n",
              "  .colab-df-spinner {\n",
              "    border: 2px solid var(--fill-color);\n",
              "    border-color: transparent;\n",
              "    border-bottom-color: var(--fill-color);\n",
              "    animation:\n",
              "      spin 1s steps(1) infinite;\n",
              "  }\n",
              "\n",
              "  @keyframes spin {\n",
              "    0% {\n",
              "      border-color: transparent;\n",
              "      border-bottom-color: var(--fill-color);\n",
              "      border-left-color: var(--fill-color);\n",
              "    }\n",
              "    20% {\n",
              "      border-color: transparent;\n",
              "      border-left-color: var(--fill-color);\n",
              "      border-top-color: var(--fill-color);\n",
              "    }\n",
              "    30% {\n",
              "      border-color: transparent;\n",
              "      border-left-color: var(--fill-color);\n",
              "      border-top-color: var(--fill-color);\n",
              "      border-right-color: var(--fill-color);\n",
              "    }\n",
              "    40% {\n",
              "      border-color: transparent;\n",
              "      border-right-color: var(--fill-color);\n",
              "      border-top-color: var(--fill-color);\n",
              "    }\n",
              "    60% {\n",
              "      border-color: transparent;\n",
              "      border-right-color: var(--fill-color);\n",
              "    }\n",
              "    80% {\n",
              "      border-color: transparent;\n",
              "      border-right-color: var(--fill-color);\n",
              "      border-bottom-color: var(--fill-color);\n",
              "    }\n",
              "    90% {\n",
              "      border-color: transparent;\n",
              "      border-bottom-color: var(--fill-color);\n",
              "    }\n",
              "  }\n",
              "</style>\n",
              "\n",
              "  <script>\n",
              "    async function quickchart(key) {\n",
              "      const quickchartButtonEl =\n",
              "        document.querySelector('#' + key + ' button');\n",
              "      quickchartButtonEl.disabled = true;  // To prevent multiple clicks.\n",
              "      quickchartButtonEl.classList.add('colab-df-spinner');\n",
              "      try {\n",
              "        const charts = await google.colab.kernel.invokeFunction(\n",
              "            'suggestCharts', [key], {});\n",
              "      } catch (error) {\n",
              "        console.error('Error during call to suggestCharts:', error);\n",
              "      }\n",
              "      quickchartButtonEl.classList.remove('colab-df-spinner');\n",
              "      quickchartButtonEl.classList.add('colab-df-quickchart-complete');\n",
              "    }\n",
              "    (() => {\n",
              "      let quickchartButtonEl =\n",
              "        document.querySelector('#df-66db0eba-d061-4853-a763-c91c90200946 button');\n",
              "      quickchartButtonEl.style.display =\n",
              "        google.colab.kernel.accessAllowed ? 'block' : 'none';\n",
              "    })();\n",
              "  </script>\n",
              "</div>\n",
              "    </div>\n",
              "  </div>\n"
            ]
          },
          "metadata": {},
          "execution_count": 4
        }
      ],
      "source": [
        "\"\"\" upload dataset from your PC, you can use different methods\"\"\"\n",
        "#from google.colab import files\n",
        "#data = files.upload()\n",
        "df = pd.read_csv('star_classification.csv')\n",
        "df.head(20)"
      ]
    },
    {
      "cell_type": "markdown",
      "metadata": {
        "id": "ZrcYNyTbJXJT"
      },
      "source": [
        "## Pre-processing"
      ]
    },
    {
      "cell_type": "code",
      "execution_count": 42,
      "metadata": {
        "id": "xZolnIDOIgtN"
      },
      "outputs": [],
      "source": [
        "#X= df.iloc[:,:-5].values\n",
        "#X= df[['obj_ID','alpha','delta','u','g','r','i','z','run_ID','rerun_ID','cam_col','field_ID','spec_obj_ID','redshift','plate','MJD','fiber_ID']]\n",
        "#X = df.drop(columns=['class'])\n",
        "X = df[['obj_ID','alpha', 'delta', 'u', 'g', 'r', 'i', 'z','redshift']]#We can minimize runtime by minimizing the number of unique features we choose.\n",
        "#X= df.drop(['class'],axis=1)\n",
        "#X= df.iloc[:,:2].values\n",
        "#X= df[['run_ID','spec_obj_ID']]\n",
        "#y= df.iloc[:,13].values\n",
        "y=df['class']\n",
        "#y=df['class']"
      ]
    },
    {
      "cell_type": "markdown",
      "metadata": {
        "id": "v7XGTrfPKkS5"
      },
      "source": [
        "Explain why you use those methods, etc."
      ]
    },
    {
      "cell_type": "markdown",
      "metadata": {
        "id": "dm32cN1_Jmv7"
      },
      "source": [
        "## Split the dataset\n",
        "\n",
        "80% training & 20% test  or 5-fold cross validation"
      ]
    },
    {
      "cell_type": "code",
      "source": [
        "from sklearn.model_selection import train_test_split\n",
        "X_train, X_test, y_train, y_test = train_test_split(X, y, test_size=0.2)"
      ],
      "metadata": {
        "id": "KHntbAgvFe3p"
      },
      "execution_count": 43,
      "outputs": []
    },
    {
      "cell_type": "code",
      "source": [
        "from sklearn.preprocessing import StandardScaler\n",
        "scaler = StandardScaler()\n",
        "scaler.fit(X_train)\n",
        "X_train = scaler.transform(X_train)\n",
        "X_test = scaler.transform(X_test)\n",
        "#The purpose of this code is to standardize or normalize your features, making them have similar scales and\n",
        "#ensuring that your machine learning model is not influenced by the different units or magnitudes of the input features."
      ],
      "metadata": {
        "id": "2uc3CLgw-Kcc"
      },
      "execution_count": 44,
      "outputs": []
    },
    {
      "cell_type": "markdown",
      "metadata": {
        "id": "M8dGaAFSJ5yC"
      },
      "source": [
        "## Classification Methods\n",
        "\n",
        "In this homework, we use kNN, Naive Bayes ..."
      ]
    },
    {
      "cell_type": "markdown",
      "metadata": {
        "id": "smdsOW8hKFMy"
      },
      "source": [
        "### kNN"
      ]
    },
    {
      "cell_type": "code",
      "execution_count": 45,
      "metadata": {
        "id": "SLiz3jhoJmBc",
        "colab": {
          "base_uri": "https://localhost:8080/",
          "height": 75
        },
        "outputId": "9a9507b9-4ac3-4b77-ffb3-4740c6371349"
      },
      "outputs": [
        {
          "output_type": "execute_result",
          "data": {
            "text/plain": [
              "KNeighborsClassifier()"
            ],
            "text/html": [
              "<style>#sk-container-id-10 {color: black;background-color: white;}#sk-container-id-10 pre{padding: 0;}#sk-container-id-10 div.sk-toggleable {background-color: white;}#sk-container-id-10 label.sk-toggleable__label {cursor: pointer;display: block;width: 100%;margin-bottom: 0;padding: 0.3em;box-sizing: border-box;text-align: center;}#sk-container-id-10 label.sk-toggleable__label-arrow:before {content: \"▸\";float: left;margin-right: 0.25em;color: #696969;}#sk-container-id-10 label.sk-toggleable__label-arrow:hover:before {color: black;}#sk-container-id-10 div.sk-estimator:hover label.sk-toggleable__label-arrow:before {color: black;}#sk-container-id-10 div.sk-toggleable__content {max-height: 0;max-width: 0;overflow: hidden;text-align: left;background-color: #f0f8ff;}#sk-container-id-10 div.sk-toggleable__content pre {margin: 0.2em;color: black;border-radius: 0.25em;background-color: #f0f8ff;}#sk-container-id-10 input.sk-toggleable__control:checked~div.sk-toggleable__content {max-height: 200px;max-width: 100%;overflow: auto;}#sk-container-id-10 input.sk-toggleable__control:checked~label.sk-toggleable__label-arrow:before {content: \"▾\";}#sk-container-id-10 div.sk-estimator input.sk-toggleable__control:checked~label.sk-toggleable__label {background-color: #d4ebff;}#sk-container-id-10 div.sk-label input.sk-toggleable__control:checked~label.sk-toggleable__label {background-color: #d4ebff;}#sk-container-id-10 input.sk-hidden--visually {border: 0;clip: rect(1px 1px 1px 1px);clip: rect(1px, 1px, 1px, 1px);height: 1px;margin: -1px;overflow: hidden;padding: 0;position: absolute;width: 1px;}#sk-container-id-10 div.sk-estimator {font-family: monospace;background-color: #f0f8ff;border: 1px dotted black;border-radius: 0.25em;box-sizing: border-box;margin-bottom: 0.5em;}#sk-container-id-10 div.sk-estimator:hover {background-color: #d4ebff;}#sk-container-id-10 div.sk-parallel-item::after {content: \"\";width: 100%;border-bottom: 1px solid gray;flex-grow: 1;}#sk-container-id-10 div.sk-label:hover label.sk-toggleable__label {background-color: #d4ebff;}#sk-container-id-10 div.sk-serial::before {content: \"\";position: absolute;border-left: 1px solid gray;box-sizing: border-box;top: 0;bottom: 0;left: 50%;z-index: 0;}#sk-container-id-10 div.sk-serial {display: flex;flex-direction: column;align-items: center;background-color: white;padding-right: 0.2em;padding-left: 0.2em;position: relative;}#sk-container-id-10 div.sk-item {position: relative;z-index: 1;}#sk-container-id-10 div.sk-parallel {display: flex;align-items: stretch;justify-content: center;background-color: white;position: relative;}#sk-container-id-10 div.sk-item::before, #sk-container-id-10 div.sk-parallel-item::before {content: \"\";position: absolute;border-left: 1px solid gray;box-sizing: border-box;top: 0;bottom: 0;left: 50%;z-index: -1;}#sk-container-id-10 div.sk-parallel-item {display: flex;flex-direction: column;z-index: 1;position: relative;background-color: white;}#sk-container-id-10 div.sk-parallel-item:first-child::after {align-self: flex-end;width: 50%;}#sk-container-id-10 div.sk-parallel-item:last-child::after {align-self: flex-start;width: 50%;}#sk-container-id-10 div.sk-parallel-item:only-child::after {width: 0;}#sk-container-id-10 div.sk-dashed-wrapped {border: 1px dashed gray;margin: 0 0.4em 0.5em 0.4em;box-sizing: border-box;padding-bottom: 0.4em;background-color: white;}#sk-container-id-10 div.sk-label label {font-family: monospace;font-weight: bold;display: inline-block;line-height: 1.2em;}#sk-container-id-10 div.sk-label-container {text-align: center;}#sk-container-id-10 div.sk-container {/* jupyter's `normalize.less` sets `[hidden] { display: none; }` but bootstrap.min.css set `[hidden] { display: none !important; }` so we also need the `!important` here to be able to override the default hidden behavior on the sphinx rendered scikit-learn.org. See: https://github.com/scikit-learn/scikit-learn/issues/21755 */display: inline-block !important;position: relative;}#sk-container-id-10 div.sk-text-repr-fallback {display: none;}</style><div id=\"sk-container-id-10\" class=\"sk-top-container\"><div class=\"sk-text-repr-fallback\"><pre>KNeighborsClassifier()</pre><b>In a Jupyter environment, please rerun this cell to show the HTML representation or trust the notebook. <br />On GitHub, the HTML representation is unable to render, please try loading this page with nbviewer.org.</b></div><div class=\"sk-container\" hidden><div class=\"sk-item\"><div class=\"sk-estimator sk-toggleable\"><input class=\"sk-toggleable__control sk-hidden--visually\" id=\"sk-estimator-id-10\" type=\"checkbox\" checked><label for=\"sk-estimator-id-10\" class=\"sk-toggleable__label sk-toggleable__label-arrow\">KNeighborsClassifier</label><div class=\"sk-toggleable__content\"><pre>KNeighborsClassifier()</pre></div></div></div></div></div>"
            ]
          },
          "metadata": {},
          "execution_count": 45
        }
      ],
      "source": [
        "# import KNeighbors Classifier from sklearn\n",
        "from sklearn.neighbors import KNeighborsClassifier\n",
        "classifier = KNeighborsClassifier(n_neighbors=5)\n",
        "#n_neighbors determines the number of nearest neighbors to consider when making a classification decision. In this case, the KNN classifier will consider the 5 nearest neighbors.\n",
        "classifier.fit(X_train,y_train)#KNN classifier uses the training data to \"learn\" patterns and relationships between the features and the corresponding labels. It effectively memorizes the training data\n"
      ]
    },
    {
      "cell_type": "code",
      "source": [
        "y_pred = classifier.predict(X_test)\n",
        "#It is used to make predictions on a set of unseen data points using the trained KNN classifier."
      ],
      "metadata": {
        "id": "5p9g79w_G_tH"
      },
      "execution_count": 46,
      "outputs": []
    },
    {
      "cell_type": "markdown",
      "metadata": {
        "id": "5eosxbp6KNNZ"
      },
      "source": [
        "Explain your results, draw plots, tables etc."
      ]
    },
    {
      "cell_type": "code",
      "source": [
        "print(classification_report(y_test,y_pred))\n",
        "cm=confusion_matrix(y_test,y_pred)\n",
        "print(cm)\n",
        "\n"
      ],
      "metadata": {
        "colab": {
          "base_uri": "https://localhost:8080/"
        },
        "id": "7MOCvVzsK7xF",
        "outputId": "c482a882-39f8-4e1c-e757-797885eb45ab"
      },
      "execution_count": 47,
      "outputs": [
        {
          "output_type": "stream",
          "name": "stdout",
          "text": [
            "              precision    recall  f1-score   support\n",
            "\n",
            "      GALAXY       0.94      0.96      0.95     11831\n",
            "         QSO       0.96      0.89      0.92      3799\n",
            "        STAR       0.92      0.93      0.92      4370\n",
            "\n",
            "    accuracy                           0.94     20000\n",
            "   macro avg       0.94      0.92      0.93     20000\n",
            "weighted avg       0.94      0.94      0.94     20000\n",
            "\n",
            "[[11350   129   352]\n",
            " [  422  3365    12]\n",
            " [  317     1  4052]]\n"
          ]
        }
      ]
    },
    {
      "cell_type": "markdown",
      "source": [
        "### Weighted KNN"
      ],
      "metadata": {
        "id": "n9uYFu-cLJK0"
      }
    },
    {
      "cell_type": "code",
      "source": [
        "from sklearn.neighbors import KNeighborsClassifier\n",
        "classifier = KNeighborsClassifier(n_neighbors=5, weights='distance')\n",
        "#n_neighbors determines the number of nearest neighbors to consider when making a classification decision. In this case, the KNN classifier will consider the 5 nearest neighbors.\n",
        "classifier.fit(X_train,y_train)#KNN classifier uses the training data to \"learn\" patterns and relationships between the features and the corresponding labels. It effectively memorizes the training data"
      ],
      "metadata": {
        "colab": {
          "base_uri": "https://localhost:8080/",
          "height": 75
        },
        "id": "_yvp_BOULMOc",
        "outputId": "e37d5fbb-36ab-4e0f-f2d6-2445041c2aaf"
      },
      "execution_count": 48,
      "outputs": [
        {
          "output_type": "execute_result",
          "data": {
            "text/plain": [
              "KNeighborsClassifier(weights='distance')"
            ],
            "text/html": [
              "<style>#sk-container-id-11 {color: black;background-color: white;}#sk-container-id-11 pre{padding: 0;}#sk-container-id-11 div.sk-toggleable {background-color: white;}#sk-container-id-11 label.sk-toggleable__label {cursor: pointer;display: block;width: 100%;margin-bottom: 0;padding: 0.3em;box-sizing: border-box;text-align: center;}#sk-container-id-11 label.sk-toggleable__label-arrow:before {content: \"▸\";float: left;margin-right: 0.25em;color: #696969;}#sk-container-id-11 label.sk-toggleable__label-arrow:hover:before {color: black;}#sk-container-id-11 div.sk-estimator:hover label.sk-toggleable__label-arrow:before {color: black;}#sk-container-id-11 div.sk-toggleable__content {max-height: 0;max-width: 0;overflow: hidden;text-align: left;background-color: #f0f8ff;}#sk-container-id-11 div.sk-toggleable__content pre {margin: 0.2em;color: black;border-radius: 0.25em;background-color: #f0f8ff;}#sk-container-id-11 input.sk-toggleable__control:checked~div.sk-toggleable__content {max-height: 200px;max-width: 100%;overflow: auto;}#sk-container-id-11 input.sk-toggleable__control:checked~label.sk-toggleable__label-arrow:before {content: \"▾\";}#sk-container-id-11 div.sk-estimator input.sk-toggleable__control:checked~label.sk-toggleable__label {background-color: #d4ebff;}#sk-container-id-11 div.sk-label input.sk-toggleable__control:checked~label.sk-toggleable__label {background-color: #d4ebff;}#sk-container-id-11 input.sk-hidden--visually {border: 0;clip: rect(1px 1px 1px 1px);clip: rect(1px, 1px, 1px, 1px);height: 1px;margin: -1px;overflow: hidden;padding: 0;position: absolute;width: 1px;}#sk-container-id-11 div.sk-estimator {font-family: monospace;background-color: #f0f8ff;border: 1px dotted black;border-radius: 0.25em;box-sizing: border-box;margin-bottom: 0.5em;}#sk-container-id-11 div.sk-estimator:hover {background-color: #d4ebff;}#sk-container-id-11 div.sk-parallel-item::after {content: \"\";width: 100%;border-bottom: 1px solid gray;flex-grow: 1;}#sk-container-id-11 div.sk-label:hover label.sk-toggleable__label {background-color: #d4ebff;}#sk-container-id-11 div.sk-serial::before {content: \"\";position: absolute;border-left: 1px solid gray;box-sizing: border-box;top: 0;bottom: 0;left: 50%;z-index: 0;}#sk-container-id-11 div.sk-serial {display: flex;flex-direction: column;align-items: center;background-color: white;padding-right: 0.2em;padding-left: 0.2em;position: relative;}#sk-container-id-11 div.sk-item {position: relative;z-index: 1;}#sk-container-id-11 div.sk-parallel {display: flex;align-items: stretch;justify-content: center;background-color: white;position: relative;}#sk-container-id-11 div.sk-item::before, #sk-container-id-11 div.sk-parallel-item::before {content: \"\";position: absolute;border-left: 1px solid gray;box-sizing: border-box;top: 0;bottom: 0;left: 50%;z-index: -1;}#sk-container-id-11 div.sk-parallel-item {display: flex;flex-direction: column;z-index: 1;position: relative;background-color: white;}#sk-container-id-11 div.sk-parallel-item:first-child::after {align-self: flex-end;width: 50%;}#sk-container-id-11 div.sk-parallel-item:last-child::after {align-self: flex-start;width: 50%;}#sk-container-id-11 div.sk-parallel-item:only-child::after {width: 0;}#sk-container-id-11 div.sk-dashed-wrapped {border: 1px dashed gray;margin: 0 0.4em 0.5em 0.4em;box-sizing: border-box;padding-bottom: 0.4em;background-color: white;}#sk-container-id-11 div.sk-label label {font-family: monospace;font-weight: bold;display: inline-block;line-height: 1.2em;}#sk-container-id-11 div.sk-label-container {text-align: center;}#sk-container-id-11 div.sk-container {/* jupyter's `normalize.less` sets `[hidden] { display: none; }` but bootstrap.min.css set `[hidden] { display: none !important; }` so we also need the `!important` here to be able to override the default hidden behavior on the sphinx rendered scikit-learn.org. See: https://github.com/scikit-learn/scikit-learn/issues/21755 */display: inline-block !important;position: relative;}#sk-container-id-11 div.sk-text-repr-fallback {display: none;}</style><div id=\"sk-container-id-11\" class=\"sk-top-container\"><div class=\"sk-text-repr-fallback\"><pre>KNeighborsClassifier(weights=&#x27;distance&#x27;)</pre><b>In a Jupyter environment, please rerun this cell to show the HTML representation or trust the notebook. <br />On GitHub, the HTML representation is unable to render, please try loading this page with nbviewer.org.</b></div><div class=\"sk-container\" hidden><div class=\"sk-item\"><div class=\"sk-estimator sk-toggleable\"><input class=\"sk-toggleable__control sk-hidden--visually\" id=\"sk-estimator-id-11\" type=\"checkbox\" checked><label for=\"sk-estimator-id-11\" class=\"sk-toggleable__label sk-toggleable__label-arrow\">KNeighborsClassifier</label><div class=\"sk-toggleable__content\"><pre>KNeighborsClassifier(weights=&#x27;distance&#x27;)</pre></div></div></div></div></div>"
            ]
          },
          "metadata": {},
          "execution_count": 48
        }
      ]
    },
    {
      "cell_type": "code",
      "source": [
        "y_pred = classifier.predict(X_test)\n",
        "#It is used to make predictions on a set of unseen data points using the trained KNN classifier.\n",
        "print(classification_report(y_test,y_pred))\n",
        "cm=confusion_matrix(y_test,y_pred)\n",
        "print(cm)"
      ],
      "metadata": {
        "colab": {
          "base_uri": "https://localhost:8080/"
        },
        "id": "CzijCTlgLZyF",
        "outputId": "c900603c-e49d-4680-9b15-d674120a8ad7"
      },
      "execution_count": 49,
      "outputs": [
        {
          "output_type": "stream",
          "name": "stdout",
          "text": [
            "              precision    recall  f1-score   support\n",
            "\n",
            "      GALAXY       0.94      0.96      0.95     11831\n",
            "         QSO       0.96      0.89      0.92      3799\n",
            "        STAR       0.92      0.93      0.93      4370\n",
            "\n",
            "    accuracy                           0.94     20000\n",
            "   macro avg       0.94      0.93      0.93     20000\n",
            "weighted avg       0.94      0.94      0.94     20000\n",
            "\n",
            "[[11345   138   348]\n",
            " [  422  3367    10]\n",
            " [  291     0  4079]]\n"
          ]
        }
      ]
    },
    {
      "cell_type": "markdown",
      "metadata": {
        "id": "IKJeZTruKHyK"
      },
      "source": [
        "### Naive Bayes"
      ]
    },
    {
      "cell_type": "code",
      "execution_count": 50,
      "metadata": {
        "id": "Pj_VQ0YWKHO2",
        "colab": {
          "base_uri": "https://localhost:8080/",
          "height": 75
        },
        "outputId": "da8970ba-0dd2-45fc-f40b-7a30fbfc03fe"
      },
      "outputs": [
        {
          "output_type": "execute_result",
          "data": {
            "text/plain": [
              "GaussianNB()"
            ],
            "text/html": [
              "<style>#sk-container-id-12 {color: black;background-color: white;}#sk-container-id-12 pre{padding: 0;}#sk-container-id-12 div.sk-toggleable {background-color: white;}#sk-container-id-12 label.sk-toggleable__label {cursor: pointer;display: block;width: 100%;margin-bottom: 0;padding: 0.3em;box-sizing: border-box;text-align: center;}#sk-container-id-12 label.sk-toggleable__label-arrow:before {content: \"▸\";float: left;margin-right: 0.25em;color: #696969;}#sk-container-id-12 label.sk-toggleable__label-arrow:hover:before {color: black;}#sk-container-id-12 div.sk-estimator:hover label.sk-toggleable__label-arrow:before {color: black;}#sk-container-id-12 div.sk-toggleable__content {max-height: 0;max-width: 0;overflow: hidden;text-align: left;background-color: #f0f8ff;}#sk-container-id-12 div.sk-toggleable__content pre {margin: 0.2em;color: black;border-radius: 0.25em;background-color: #f0f8ff;}#sk-container-id-12 input.sk-toggleable__control:checked~div.sk-toggleable__content {max-height: 200px;max-width: 100%;overflow: auto;}#sk-container-id-12 input.sk-toggleable__control:checked~label.sk-toggleable__label-arrow:before {content: \"▾\";}#sk-container-id-12 div.sk-estimator input.sk-toggleable__control:checked~label.sk-toggleable__label {background-color: #d4ebff;}#sk-container-id-12 div.sk-label input.sk-toggleable__control:checked~label.sk-toggleable__label {background-color: #d4ebff;}#sk-container-id-12 input.sk-hidden--visually {border: 0;clip: rect(1px 1px 1px 1px);clip: rect(1px, 1px, 1px, 1px);height: 1px;margin: -1px;overflow: hidden;padding: 0;position: absolute;width: 1px;}#sk-container-id-12 div.sk-estimator {font-family: monospace;background-color: #f0f8ff;border: 1px dotted black;border-radius: 0.25em;box-sizing: border-box;margin-bottom: 0.5em;}#sk-container-id-12 div.sk-estimator:hover {background-color: #d4ebff;}#sk-container-id-12 div.sk-parallel-item::after {content: \"\";width: 100%;border-bottom: 1px solid gray;flex-grow: 1;}#sk-container-id-12 div.sk-label:hover label.sk-toggleable__label {background-color: #d4ebff;}#sk-container-id-12 div.sk-serial::before {content: \"\";position: absolute;border-left: 1px solid gray;box-sizing: border-box;top: 0;bottom: 0;left: 50%;z-index: 0;}#sk-container-id-12 div.sk-serial {display: flex;flex-direction: column;align-items: center;background-color: white;padding-right: 0.2em;padding-left: 0.2em;position: relative;}#sk-container-id-12 div.sk-item {position: relative;z-index: 1;}#sk-container-id-12 div.sk-parallel {display: flex;align-items: stretch;justify-content: center;background-color: white;position: relative;}#sk-container-id-12 div.sk-item::before, #sk-container-id-12 div.sk-parallel-item::before {content: \"\";position: absolute;border-left: 1px solid gray;box-sizing: border-box;top: 0;bottom: 0;left: 50%;z-index: -1;}#sk-container-id-12 div.sk-parallel-item {display: flex;flex-direction: column;z-index: 1;position: relative;background-color: white;}#sk-container-id-12 div.sk-parallel-item:first-child::after {align-self: flex-end;width: 50%;}#sk-container-id-12 div.sk-parallel-item:last-child::after {align-self: flex-start;width: 50%;}#sk-container-id-12 div.sk-parallel-item:only-child::after {width: 0;}#sk-container-id-12 div.sk-dashed-wrapped {border: 1px dashed gray;margin: 0 0.4em 0.5em 0.4em;box-sizing: border-box;padding-bottom: 0.4em;background-color: white;}#sk-container-id-12 div.sk-label label {font-family: monospace;font-weight: bold;display: inline-block;line-height: 1.2em;}#sk-container-id-12 div.sk-label-container {text-align: center;}#sk-container-id-12 div.sk-container {/* jupyter's `normalize.less` sets `[hidden] { display: none; }` but bootstrap.min.css set `[hidden] { display: none !important; }` so we also need the `!important` here to be able to override the default hidden behavior on the sphinx rendered scikit-learn.org. See: https://github.com/scikit-learn/scikit-learn/issues/21755 */display: inline-block !important;position: relative;}#sk-container-id-12 div.sk-text-repr-fallback {display: none;}</style><div id=\"sk-container-id-12\" class=\"sk-top-container\"><div class=\"sk-text-repr-fallback\"><pre>GaussianNB()</pre><b>In a Jupyter environment, please rerun this cell to show the HTML representation or trust the notebook. <br />On GitHub, the HTML representation is unable to render, please try loading this page with nbviewer.org.</b></div><div class=\"sk-container\" hidden><div class=\"sk-item\"><div class=\"sk-estimator sk-toggleable\"><input class=\"sk-toggleable__control sk-hidden--visually\" id=\"sk-estimator-id-12\" type=\"checkbox\" checked><label for=\"sk-estimator-id-12\" class=\"sk-toggleable__label sk-toggleable__label-arrow\">GaussianNB</label><div class=\"sk-toggleable__content\"><pre>GaussianNB()</pre></div></div></div></div></div>"
            ]
          },
          "metadata": {},
          "execution_count": 50
        }
      ],
      "source": [
        "from sklearn.naive_bayes import GaussianNB\n",
        "# Gaussian Naive Bayes is a probabilistic classifier based on the Bayes' theorem, which is commonly used for classification tasks.\n",
        "clf=GaussianNB()\n",
        "#This line initializes an instance of the Gaussian Naive Bayes classifier and assigns it to the variable clf. This clf object will be used to train and make predictions with the Gaussian Naive Bayes model.\n",
        "clf.fit(X_train,y_train)\n",
        "#This line trains the Gaussian Naive Bayes classifier using the provided training data.\n",
        "#When you call clf.fit(X_train, y_train), the Gaussian Naive Bayes classifier estimates the statistical parameters (mean and variance) of each feature for each class in the training data.\n",
        "#It assumes that the features are normally distributed within each class (hence \"Gaussian\"), and it uses this information to calculate the likelihood of observing a specific combination of features for each class.\n",
        "#It also estimates the prior probabilities of each class."
      ]
    },
    {
      "cell_type": "code",
      "source": [
        "y_pred=clf.predict(X_test)\n",
        "#It is used to make predictions on a set of unseen data points using the trained Naive bayes classification\n",
        "print(classification_report(y_test,y_pred))\n",
        "cm=confusion_matrix(y_test,y_pred)\n",
        "print(cm)"
      ],
      "metadata": {
        "colab": {
          "base_uri": "https://localhost:8080/"
        },
        "id": "8F8GFpmcagWZ",
        "outputId": "a873a1e9-5eae-4da2-b760-f71e9fd10125"
      },
      "execution_count": 51,
      "outputs": [
        {
          "output_type": "stream",
          "name": "stdout",
          "text": [
            "              precision    recall  f1-score   support\n",
            "\n",
            "      GALAXY       0.75      0.92      0.83     11831\n",
            "         QSO       0.68      0.89      0.77      3799\n",
            "        STAR       0.99      0.14      0.25      4370\n",
            "\n",
            "    accuracy                           0.74     20000\n",
            "   macro avg       0.81      0.65      0.62     20000\n",
            "weighted avg       0.79      0.74      0.69     20000\n",
            "\n",
            "[[10869   956     6]\n",
            " [  432  3367     0]\n",
            " [ 3111   628   631]]\n"
          ]
        }
      ]
    },
    {
      "cell_type": "markdown",
      "metadata": {
        "id": "xi0tjQ23fjsl"
      },
      "source": [
        "### Random Forest\n"
      ]
    },
    {
      "cell_type": "code",
      "source": [
        "from sklearn.ensemble import RandomForestClassifier"
      ],
      "metadata": {
        "id": "XDFCgwmlfsNI"
      },
      "execution_count": 52,
      "outputs": []
    },
    {
      "cell_type": "code",
      "source": [
        "#The RandomForestClassifier is an ensemble learning method based on decision trees, which is used for classification tasks.\n",
        "rforest = RandomForestClassifier()\n",
        "#Random Forest algorithm creates a collection of decision trees, where each tree is trained on a bootstrapped subset of the training data (bagging) and selects a random subset of features to split on (feature bagging).\n",
        "#The ensemble of decision trees works together to make predictions.\n",
        "rforest.fit(X_train,y_train)"
      ],
      "metadata": {
        "colab": {
          "base_uri": "https://localhost:8080/",
          "height": 75
        },
        "id": "c_0nx9nfzyKA",
        "outputId": "05ab1fce-c422-472b-93d5-9869a0f9e318"
      },
      "execution_count": 53,
      "outputs": [
        {
          "output_type": "execute_result",
          "data": {
            "text/plain": [
              "RandomForestClassifier()"
            ],
            "text/html": [
              "<style>#sk-container-id-13 {color: black;background-color: white;}#sk-container-id-13 pre{padding: 0;}#sk-container-id-13 div.sk-toggleable {background-color: white;}#sk-container-id-13 label.sk-toggleable__label {cursor: pointer;display: block;width: 100%;margin-bottom: 0;padding: 0.3em;box-sizing: border-box;text-align: center;}#sk-container-id-13 label.sk-toggleable__label-arrow:before {content: \"▸\";float: left;margin-right: 0.25em;color: #696969;}#sk-container-id-13 label.sk-toggleable__label-arrow:hover:before {color: black;}#sk-container-id-13 div.sk-estimator:hover label.sk-toggleable__label-arrow:before {color: black;}#sk-container-id-13 div.sk-toggleable__content {max-height: 0;max-width: 0;overflow: hidden;text-align: left;background-color: #f0f8ff;}#sk-container-id-13 div.sk-toggleable__content pre {margin: 0.2em;color: black;border-radius: 0.25em;background-color: #f0f8ff;}#sk-container-id-13 input.sk-toggleable__control:checked~div.sk-toggleable__content {max-height: 200px;max-width: 100%;overflow: auto;}#sk-container-id-13 input.sk-toggleable__control:checked~label.sk-toggleable__label-arrow:before {content: \"▾\";}#sk-container-id-13 div.sk-estimator input.sk-toggleable__control:checked~label.sk-toggleable__label {background-color: #d4ebff;}#sk-container-id-13 div.sk-label input.sk-toggleable__control:checked~label.sk-toggleable__label {background-color: #d4ebff;}#sk-container-id-13 input.sk-hidden--visually {border: 0;clip: rect(1px 1px 1px 1px);clip: rect(1px, 1px, 1px, 1px);height: 1px;margin: -1px;overflow: hidden;padding: 0;position: absolute;width: 1px;}#sk-container-id-13 div.sk-estimator {font-family: monospace;background-color: #f0f8ff;border: 1px dotted black;border-radius: 0.25em;box-sizing: border-box;margin-bottom: 0.5em;}#sk-container-id-13 div.sk-estimator:hover {background-color: #d4ebff;}#sk-container-id-13 div.sk-parallel-item::after {content: \"\";width: 100%;border-bottom: 1px solid gray;flex-grow: 1;}#sk-container-id-13 div.sk-label:hover label.sk-toggleable__label {background-color: #d4ebff;}#sk-container-id-13 div.sk-serial::before {content: \"\";position: absolute;border-left: 1px solid gray;box-sizing: border-box;top: 0;bottom: 0;left: 50%;z-index: 0;}#sk-container-id-13 div.sk-serial {display: flex;flex-direction: column;align-items: center;background-color: white;padding-right: 0.2em;padding-left: 0.2em;position: relative;}#sk-container-id-13 div.sk-item {position: relative;z-index: 1;}#sk-container-id-13 div.sk-parallel {display: flex;align-items: stretch;justify-content: center;background-color: white;position: relative;}#sk-container-id-13 div.sk-item::before, #sk-container-id-13 div.sk-parallel-item::before {content: \"\";position: absolute;border-left: 1px solid gray;box-sizing: border-box;top: 0;bottom: 0;left: 50%;z-index: -1;}#sk-container-id-13 div.sk-parallel-item {display: flex;flex-direction: column;z-index: 1;position: relative;background-color: white;}#sk-container-id-13 div.sk-parallel-item:first-child::after {align-self: flex-end;width: 50%;}#sk-container-id-13 div.sk-parallel-item:last-child::after {align-self: flex-start;width: 50%;}#sk-container-id-13 div.sk-parallel-item:only-child::after {width: 0;}#sk-container-id-13 div.sk-dashed-wrapped {border: 1px dashed gray;margin: 0 0.4em 0.5em 0.4em;box-sizing: border-box;padding-bottom: 0.4em;background-color: white;}#sk-container-id-13 div.sk-label label {font-family: monospace;font-weight: bold;display: inline-block;line-height: 1.2em;}#sk-container-id-13 div.sk-label-container {text-align: center;}#sk-container-id-13 div.sk-container {/* jupyter's `normalize.less` sets `[hidden] { display: none; }` but bootstrap.min.css set `[hidden] { display: none !important; }` so we also need the `!important` here to be able to override the default hidden behavior on the sphinx rendered scikit-learn.org. See: https://github.com/scikit-learn/scikit-learn/issues/21755 */display: inline-block !important;position: relative;}#sk-container-id-13 div.sk-text-repr-fallback {display: none;}</style><div id=\"sk-container-id-13\" class=\"sk-top-container\"><div class=\"sk-text-repr-fallback\"><pre>RandomForestClassifier()</pre><b>In a Jupyter environment, please rerun this cell to show the HTML representation or trust the notebook. <br />On GitHub, the HTML representation is unable to render, please try loading this page with nbviewer.org.</b></div><div class=\"sk-container\" hidden><div class=\"sk-item\"><div class=\"sk-estimator sk-toggleable\"><input class=\"sk-toggleable__control sk-hidden--visually\" id=\"sk-estimator-id-13\" type=\"checkbox\" checked><label for=\"sk-estimator-id-13\" class=\"sk-toggleable__label sk-toggleable__label-arrow\">RandomForestClassifier</label><div class=\"sk-toggleable__content\"><pre>RandomForestClassifier()</pre></div></div></div></div></div>"
            ]
          },
          "metadata": {},
          "execution_count": 53
        }
      ]
    },
    {
      "cell_type": "code",
      "source": [
        "rf_predictions = rforest.predict(X_test)\n",
        "#It is used to make predictions on a set of unseen data points using the trained Random Forest classification\n",
        "print(\"Classification Report for Random Forest:\")\n",
        "print(classification_report(y_test, rf_predictions))\n",
        "cm=confusion_matrix(y_test,y_pred)\n",
        "print(cm)"
      ],
      "metadata": {
        "colab": {
          "base_uri": "https://localhost:8080/"
        },
        "id": "dh5b4wrFFlxq",
        "outputId": "d35b02ee-b023-45b8-d316-201750dd272e"
      },
      "execution_count": 54,
      "outputs": [
        {
          "output_type": "stream",
          "name": "stdout",
          "text": [
            "Classification Report for Random Forest:\n",
            "              precision    recall  f1-score   support\n",
            "\n",
            "      GALAXY       0.98      0.99      0.98     11831\n",
            "         QSO       0.96      0.93      0.95      3799\n",
            "        STAR       1.00      1.00      1.00      4370\n",
            "\n",
            "    accuracy                           0.98     20000\n",
            "   macro avg       0.98      0.97      0.98     20000\n",
            "weighted avg       0.98      0.98      0.98     20000\n",
            "\n",
            "[[10869   956     6]\n",
            " [  432  3367     0]\n",
            " [ 3111   628   631]]\n"
          ]
        }
      ]
    },
    {
      "cell_type": "markdown",
      "source": [
        "###Svm"
      ],
      "metadata": {
        "id": "nwz1qvJn2bRQ"
      }
    },
    {
      "cell_type": "code",
      "source": [
        "from sklearn.svm import SVC"
      ],
      "metadata": {
        "id": "Cz3YPoA13Mjo"
      },
      "execution_count": 55,
      "outputs": []
    },
    {
      "cell_type": "code",
      "source": [
        "svm_model = SVC()\n",
        "#The SVC class stands for Support Vector Classification and is used for binary and multi-class classification tasks.\n",
        "#The SVM algorithm uses this information to learn a decision boundary that separates different classes.\n",
        "svm_model.fit(X_train,y_train)\n",
        "svm_predictions = svm_model.predict(X_test)\n",
        "#It is used to make predictions on a set of unseen data points using the trained SVM classification\n",
        "print(\"Classification Report for SVM:\")\n",
        "print(classification_report(y_test, svm_predictions))\n",
        "cm=confusion_matrix(y_test,y_pred)\n",
        "print(cm)"
      ],
      "metadata": {
        "id": "tolDyalY4Izv",
        "colab": {
          "base_uri": "https://localhost:8080/"
        },
        "outputId": "fc20cf9a-d86d-4279-e28b-05423cb703fa"
      },
      "execution_count": 56,
      "outputs": [
        {
          "output_type": "stream",
          "name": "stdout",
          "text": [
            "Classification Report for SVM:\n",
            "              precision    recall  f1-score   support\n",
            "\n",
            "      GALAXY       0.97      0.97      0.97     11831\n",
            "         QSO       0.96      0.89      0.93      3799\n",
            "        STAR       0.94      1.00      0.97      4370\n",
            "\n",
            "    accuracy                           0.96     20000\n",
            "   macro avg       0.96      0.95      0.95     20000\n",
            "weighted avg       0.96      0.96      0.96     20000\n",
            "\n",
            "[[10869   956     6]\n",
            " [  432  3367     0]\n",
            " [ 3111   628   631]]\n"
          ]
        }
      ]
    },
    {
      "cell_type": "markdown",
      "metadata": {
        "id": "L7iXkxV4KWRa"
      },
      "source": [
        "###Explain your results, draw plots, tables etc."
      ]
    },
    {
      "cell_type": "code",
      "execution_count": 70,
      "metadata": {
        "id": "1sbFc7wcI-uM",
        "colab": {
          "base_uri": "https://localhost:8080/",
          "height": 449
        },
        "outputId": "d452fa50-61b6-4b21-a783-2850c1750e19"
      },
      "outputs": [
        {
          "output_type": "display_data",
          "data": {
            "text/plain": [
              "<Figure size 640x480 with 1 Axes>"
            ],
            "image/png": "[encoded data removed]"
          },
          "metadata": {}
        }
      ],
      "source": [
        "colors = {'QSO': 'r', 'GALAXY': 'g', 'STAR': 'b'}\n",
        "color_labels = [colors[label] for label in y_test]\n",
        "\n",
        "plt.scatter(X_test[:, 1], X_test[:, 2], c=color_labels)\n",
        "plt.xlabel(\"Unique feature1\")\n",
        "plt.ylabel(\"Unique feature2\")\n",
        "\n",
        "plt.show()"
      ]
    },
    {
      "cell_type": "markdown",
      "source": [
        "We can prefer knn or naive bayes instead of svm and random forest in classifying and predicting larger data. The reason for this is that svm and random forest algorithms run slower on big data.\n",
        "Confusion matrix provides a detailed breakdown of true positives, true negatives, false positives, and false negatives, which can help you understand where the model is making errors."
      ],
      "metadata": {
        "id": "1PiFOFO6RlOZ"
      }
    }
  ],
  "metadata": {
    "colab": {
      "provenance": []
    },
    "kernelspec": {
      "display_name": "Python 3",
      "language": "python",
      "name": "python3"
    },
    "language_info": {
      "codemirror_mode": {
        "name": "ipython",
        "version": 3
      },
      "file_extension": ".py",
      "mimetype": "text/x-python",
      "name": "python",
      "nbconvert_exporter": "python",
      "pygments_lexer": "ipython3",
      "version": "3.8.8"
    }
  },
  "nbformat": 4,
  "nbformat_minor": 0
}